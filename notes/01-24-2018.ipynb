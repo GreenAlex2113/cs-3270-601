{
 "cells": [
  {
   "cell_type": "markdown",
   "metadata": {},
   "source": [
    "## PyIngredients Exercises"
   ]
  },
  {
   "cell_type": "markdown",
   "metadata": {},
   "source": [
    "Slides on [google drive](https://docs.google.com/presentation/d/1cWjvphs6bFAdZBAx0gp8VlCqZPAtelBzLtOdz3sJfiE/edit#slide=id.g1c270cc060_0_25)"
   ]
  },
  {
   "cell_type": "markdown",
   "metadata": {},
   "source": [
    "### Creating a Calculator\n",
    "\n",
    "Let’s create a calculator!  To get input from the user we will use the built-in command `input`.\n",
    "\n",
    "Steps:\n",
    "1. Get input from user as a string\n",
    "2. Split on string and verify operation (2 operands and operator)\n",
    "  * Supported Operations:\n",
    "    * +, -, *, /\n",
    "    * sin, cos\n",
    "3. Output the results\n",
    "4. loop until empty string"
   ]
  },
  {
   "cell_type": "code",
   "execution_count": 1,
   "metadata": {
    "collapsed": false
   },
   "outputs": [
    {
     "name": "stdout",
     "output_type": "stream",
     "text": [
      "3 + 4\n",
      "7.0\n",
      "5 * 7\n",
      "35.0\n",
      "\n"
     ]
    }
   ],
   "source": [
    "## Solution\n",
    "\n",
    "# 3 + 4\n",
    "def calculate():\n",
    "    command = input()\n",
    "    if not command:\n",
    "        return None\n",
    "    \n",
    "    lop, operator, rop = command.split()\n",
    "    lop, rop = float(lop), float(rop)\n",
    "    if operator == '+':\n",
    "        return lop + rop\n",
    "    elif operator == '-':\n",
    "        return lop - rop\n",
    "    elif operator == '*':\n",
    "        return lop * rop\n",
    "    elif operator == '/':\n",
    "        return lop / rop\n",
    "    \n",
    "    raise ValueError(f'Operator {operator} is not supported')\n",
    "    \n",
    "    \n",
    "while True:\n",
    "    try:\n",
    "        result = calculate()\n",
    "        if not result:\n",
    "            break\n",
    "        print(result)\n",
    "    except ValueError as e:\n",
    "        print(f'Error occurred: {e}')"
   ]
  },
  {
   "cell_type": "markdown",
   "metadata": {},
   "source": [
    "### Create a pretty title\n",
    "\n",
    "We need to create a title variable that contains the following:\n",
    "* Your Name\n",
    "* UVU ID\n",
    "* Class Section\n",
    "\n",
    "When we print the variable we are going to want to have a corresponding header and footer built using `*`. \n",
    "* Header is 20\n",
    "* Footer is 15"
   ]
  },
  {
   "cell_type": "code",
   "execution_count": 2,
   "metadata": {
    "collapsed": false
   },
   "outputs": [
    {
     "name": "stdout",
     "output_type": "stream",
     "text": [
      "************\n",
      "Mike Wrights\n",
      "10016998\n",
      "601\n",
      "************\n"
     ]
    }
   ],
   "source": [
    "## Solution\n",
    "\n",
    "title = '''Mike Wrights\n",
    "10016998\n",
    "601'''\n",
    "\n",
    "max_length = -1\n",
    "for x in title.split('\\n'):\n",
    "    x_length = len(x)\n",
    "    if x_length > max_length:\n",
    "        max_length = x_length\n",
    "\n",
    "print('*' * max_length)\n",
    "print(title)\n",
    "print('*' * max_length)"
   ]
  },
  {
   "cell_type": "markdown",
   "metadata": {},
   "source": [
    "### Poem editing\n",
    "\n",
    "Create a poem as a multi-line variable from the poem found here [http://poestories.com/read/alone](http://poestories.com/read/alone).  \n",
    "\n",
    "Adjust the text using the following steps:\n",
    "\n",
    "1. replace any `--` with nothing\n",
    "2. Split lines\n",
    "3. Print every other line uppercase\n",
    "4. Print center on 70 spacing\n"
   ]
  },
  {
   "cell_type": "code",
   "execution_count": 4,
   "metadata": {
    "collapsed": false
   },
   "outputs": [
    {
     "name": "stdout",
     "output_type": "stream",
     "text": [
      "FROM CHILDHOOD'S HOUR I HAVE NOT BEEN\n",
      "As others were  I have not seen\n",
      "AS OTHERS SAW  I COULD NOT BRING\n",
      "My passions from a common spring \n",
      "FROM THE SAME SOURCE I HAVE NOT TAKEN\n",
      "My sorrow  I could not awaken\n",
      "MY HEART TO JOY AT THE SAME TONE \n",
      "And all I lov'd  I lov'd alone \n",
      "THEN  IN MY CHILDHOOD  IN THE DAWN\n",
      "Of a most stormy life  was drawn\n",
      "FROM EV'RY DEPTH OF GOOD AND ILL\n",
      "The mystery which binds me still \n",
      "FROM THE TORRENT, OR THE FOUNTAIN \n",
      "From the red cliff of the mountain \n",
      "FROM THE SUN THAT 'ROUND ME ROLL'D\n",
      "In its autumn tint of gold \n",
      "FROM THE LIGHTNING IN THE SKY\n",
      "As it pass'd me flying by \n",
      "FROM THE THUNDER, AND THE STORM \n",
      "And the cloud that took the form\n",
      "(WHEN THE REST OF HEAVEN WAS BLUE)\n",
      "Of a demon in my view \n"
     ]
    }
   ],
   "source": [
    "## Solution\n",
    "\n",
    "poem = '''From childhood's hour I have not been\n",
    "As others were -- I have not seen\n",
    "As others saw -- I could not bring\n",
    "My passions from a common spring --\n",
    "From the same source I have not taken\n",
    "My sorrow -- I could not awaken\n",
    "My heart to joy at the same tone --\n",
    "And all I lov'd -- I lov'd alone --\n",
    "Then -- in my childhood -- in the dawn\n",
    "Of a most stormy life -- was drawn\n",
    "From ev'ry depth of good and ill\n",
    "The mystery which binds me still --\n",
    "From the torrent, or the fountain --\n",
    "From the red cliff of the mountain --\n",
    "From the sun that 'round me roll'd\n",
    "In its autumn tint of gold --\n",
    "From the lightning in the sky\n",
    "As it pass'd me flying by --\n",
    "From the thunder, and the storm --\n",
    "And the cloud that took the form\n",
    "(When the rest of Heaven was blue)\n",
    "Of a demon in my view --'''\n",
    "\n",
    "poem = poem.replace('--', '')\n",
    "poem = poem.split('\\n')\n",
    "\n",
    "for i, p in enumerate(poem):\n",
    "    if i % 2 == 0:\n",
    "        print(p.upper())\n",
    "    else:\n",
    "        print(p)"
   ]
  },
  {
   "cell_type": "code",
   "execution_count": null,
   "metadata": {
    "collapsed": true
   },
   "outputs": [],
   "source": []
  }
 ],
 "metadata": {
  "kernelspec": {
   "display_name": "Python 3",
   "language": "python",
   "name": "python3"
  },
  "language_info": {
   "codemirror_mode": {
    "name": "ipython",
    "version": 3
   },
   "file_extension": ".py",
   "mimetype": "text/x-python",
   "name": "python",
   "nbconvert_exporter": "python",
   "pygments_lexer": "ipython3",
   "version": "3.6.2"
  }
 },
 "nbformat": 4,
 "nbformat_minor": 2
}
