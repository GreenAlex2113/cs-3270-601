{
 "cells": [
  {
   "cell_type": "markdown",
   "metadata": {},
   "source": [
    "## PyIngredients Exercises"
   ]
  },
  {
   "cell_type": "markdown",
   "metadata": {},
   "source": [
    "Slides on [google drive](https://docs.google.com/presentation/d/1cWjvphs6bFAdZBAx0gp8VlCqZPAtelBzLtOdz3sJfiE/edit#slide=id.g1c270cc060_0_25)"
   ]
  },
  {
   "cell_type": "code",
   "execution_count": null,
   "metadata": {
    "collapsed": true
   },
   "outputs": [],
   "source": []
  },
  {
   "cell_type": "markdown",
   "metadata": {},
   "source": [
    "### Creating a Calculator\n",
    "\n",
    "Let’s create a calculator!  To get input from the user we will use the built-in command `input`.\n",
    "\n",
    "Steps:\n",
    "1. Get input from user as a string\n",
    "2. Split on string and verify operation (2 operands and operator)\n",
    "  * Supported Operations:\n",
    "    * +, -, *, /\n",
    "    * sin, cos\n",
    "3. Output the results\n",
    "4. loop until empty string"
   ]
  },
  {
   "cell_type": "code",
   "execution_count": null,
   "metadata": {
    "collapsed": false
   },
   "outputs": [],
   "source": [
    "## Solution\n"
   ]
  }
 ],
 "metadata": {
  "kernelspec": {
   "display_name": "Python 3",
   "language": "python",
   "name": "python3"
  },
  "language_info": {
   "codemirror_mode": {
    "name": "ipython",
    "version": 3
   },
   "file_extension": ".py",
   "mimetype": "text/x-python",
   "name": "python",
   "nbconvert_exporter": "python",
   "pygments_lexer": "ipython3",
   "version": "3.6.2"
  }
 },
 "nbformat": 4,
 "nbformat_minor": 2
}
