{
 "cells": [
  {
   "cell_type": "markdown",
   "metadata": {},
   "source": [
    "## Quiz 1 - Python Basics"
   ]
  },
  {
   "cell_type": "markdown",
   "metadata": {},
   "source": [
    "For this quiz there are going to be 5 questions, each has its points value next to its name (totalling 10)  \n",
    "\n",
    "Don't fret though, remember that in this class all quizzes are extra credit, so getting a 0 is not going to have a negative impact on your grade. "
   ]
  },
  {
   "cell_type": "markdown",
   "metadata": {},
   "source": [
    "### Question 1\n",
    "\n",
    "**1 point**\n",
    "\n",
    "Declare a variable named `number` of type `int` with the value 10."
   ]
  },
  {
   "cell_type": "code",
   "execution_count": 1,
   "metadata": {
    "collapsed": true
   },
   "outputs": [],
   "source": [
    "## Solution\n",
    "number = 10"
   ]
  },
  {
   "cell_type": "markdown",
   "metadata": {},
   "source": [
    "### Question 2\n",
    "\n",
    "**1 point**\n",
    "\n",
    "define a function named `greet()` that returns the string `Hello World`."
   ]
  },
  {
   "cell_type": "code",
   "execution_count": 4,
   "metadata": {
    "collapsed": false
   },
   "outputs": [],
   "source": [
    "## Solution\n",
    "def greet():\n",
    "    return 'Hello World'"
   ]
  },
  {
   "cell_type": "markdown",
   "metadata": {},
   "source": [
    "### Question 3\n",
    "\n",
    "**2 points**\n",
    "\n",
    "Demonstrate how the exception handling works in python by creating a block that calls a non-existent method `not_here()` and catches the exception printing out the message `I broke`."
   ]
  },
  {
   "cell_type": "code",
   "execution_count": 7,
   "metadata": {
    "collapsed": false
   },
   "outputs": [
    {
     "name": "stdout",
     "output_type": "stream",
     "text": [
      "I broke\n"
     ]
    }
   ],
   "source": [
    "## Solution\n",
    "try:\n",
    "    not_here()\n",
    "except:\n",
    "    print('I broke')"
   ]
  },
  {
   "cell_type": "markdown",
   "metadata": {},
   "source": [
    "### Question 4\n",
    "\n",
    "**2 points**\n",
    "\n",
    "Define a function named `larger()` that takes two arguments and returns the larger of the two."
   ]
  },
  {
   "cell_type": "code",
   "execution_count": 8,
   "metadata": {
    "collapsed": false
   },
   "outputs": [],
   "source": [
    "## Solution\n",
    "def larger(a, b):\n",
    "    if a > b:\n",
    "        return a\n",
    "    else:\n",
    "        return b\n",
    "print(larger(10, 12))\n",
    "\n",
    "def larger(a, b):\n",
    "    if b > a:\n",
    "        return b\n",
    "    else:\n",
    "        return a\n",
    "print(larger(10, 12))\n",
    "\n",
    "def larger(a, b):\n",
    "    if (a > b):\n",
    "        return a\n",
    "    return b\n",
    "print(larger(10, 12))\n",
    "    \n",
    "def larger(a, b):\n",
    "    return a if a > b else b\n",
    "print(larger(10, 12))"
   ]
  },
  {
   "cell_type": "markdown",
   "metadata": {},
   "source": [
    "### Question 5\n",
    "\n",
    "**4 points**\n",
    "\n",
    "Create an infinite generator named `range` that takes no arguments and returns the next number in the sequence $1 .. \\infty$"
   ]
  },
  {
   "cell_type": "code",
   "execution_count": 11,
   "metadata": {
    "collapsed": false
   },
   "outputs": [
    {
     "name": "stdout",
     "output_type": "stream",
     "text": [
      "1\n",
      "2\n",
      "3\n",
      "4\n",
      "5\n"
     ]
    }
   ],
   "source": [
    "## Solution\n",
    "def range():\n",
    "    x = 1\n",
    "    while True:\n",
    "        yield x\n",
    "        x += 1\n",
    "\n",
    "for i in range():\n",
    "    if i > 5:\n",
    "        break\n",
    "    print(i)\n"
   ]
  },
  {
   "cell_type": "code",
   "execution_count": null,
   "metadata": {
    "collapsed": true
   },
   "outputs": [],
   "source": []
  }
 ],
 "metadata": {
  "kernelspec": {
   "display_name": "Python 3",
   "language": "python",
   "name": "python3"
  },
  "language_info": {
   "codemirror_mode": {
    "name": "ipython",
    "version": 3
   },
   "file_extension": ".py",
   "mimetype": "text/x-python",
   "name": "python",
   "nbconvert_exporter": "python",
   "pygments_lexer": "ipython3",
   "version": "3.6.2"
  }
 },
 "nbformat": 4,
 "nbformat_minor": 2
}
